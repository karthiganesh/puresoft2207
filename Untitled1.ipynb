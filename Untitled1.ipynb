{
 "cells": [
  {
   "cell_type": "code",
   "execution_count": 2,
   "id": "e95f27e8-845c-4079-a5a8-02776fc63520",
   "metadata": {},
   "outputs": [
    {
     "name": "stdout",
     "output_type": "stream",
     "text": [
      "9\n"
     ]
    }
   ],
   "source": [
    "a = 4+5\n",
    "print(a)"
   ]
  },
  {
   "cell_type": "markdown",
   "id": "3aea9bb0-a677-498e-8ef9-0dadf61a7bb4",
   "metadata": {},
   "source": [
    "The next cell is used to calculate Area of Circle\n",
    "Python library functions"
   ]
  },
  {
   "cell_type": "code",
   "execution_count": 6,
   "id": "a09f6612-8a7b-42c5-92d4-9ef1947158dd",
   "metadata": {},
   "outputs": [],
   "source": [
    "import math"
   ]
  },
  {
   "cell_type": "code",
   "execution_count": 7,
   "id": "2a00739b-ad48-4f1c-ba1c-4835859e89c7",
   "metadata": {},
   "outputs": [],
   "source": [
    "n_area = math.pi * 3.6 ** 2"
   ]
  },
  {
   "cell_type": "code",
   "execution_count": 8,
   "id": "b0545f61-2b95-42ff-bd72-a92a297a0fb9",
   "metadata": {},
   "outputs": [
    {
     "name": "stdout",
     "output_type": "stream",
     "text": [
      "40.71504079052372\n"
     ]
    }
   ],
   "source": [
    "print(n_area)"
   ]
  }
 ],
 "metadata": {
  "kernelspec": {
   "display_name": "Python 3 (ipykernel)",
   "language": "python",
   "name": "python3"
  },
  "language_info": {
   "codemirror_mode": {
    "name": "ipython",
    "version": 3
   },
   "file_extension": ".py",
   "mimetype": "text/x-python",
   "name": "python",
   "nbconvert_exporter": "python",
   "pygments_lexer": "ipython3",
   "version": "3.9.1"
  }
 },
 "nbformat": 4,
 "nbformat_minor": 5
}
