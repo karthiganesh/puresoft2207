{
 "cells": [
  {
   "cell_type": "code",
   "execution_count": 1,
   "id": "53ac93d7-c44d-47a2-9ae0-5d0239164031",
   "metadata": {},
   "outputs": [],
   "source": []
  },
  {
   "cell_type": "code",
   "execution_count": 1,
   "id": "6c86492c-1624-474d-8736-7fbe96bd5471",
   "metadata": {},
   "outputs": [],
   "source": [
    "# Required Packages\n",
    "from sklearn import datasets\t\t# To Get iris dataset\n",
    "from sklearn import svm    \t\t\t# To fit the svm classifier\n",
    "import numpy as np\n",
    "import matplotlib.pyplot as plt            # To visuvalizing the data"
   ]
  },
  {
   "cell_type": "code",
   "execution_count": 2,
   "id": "f2ff3d67-b759-40a8-b6a6-7885b11c69a4",
   "metadata": {},
   "outputs": [],
   "source": [
    "# import iris data to model Svm classifier\n",
    "iris_dataset = datasets.load_iris()"
   ]
  },
  {
   "cell_type": "code",
   "execution_count": 5,
   "id": "a2ebdd96-a253-4cf9-aba6-6f39046bf532",
   "metadata": {},
   "outputs": [
    {
     "name": "stderr",
     "output_type": "stream",
     "text": [
      "c:\\users\\karthiganesh_durai\\envantar\\lib\\site-packages\\sklearn\\svm\\_base.py:1225: ConvergenceWarning: Liblinear failed to converge, increase the number of iterations.\n",
      "  warnings.warn(\n"
     ]
    }
   ],
   "source": [
    "iris = datasets.load_iris()\n",
    "X = iris.data[:, :2]  # we only take the Sepal two features.\n",
    "y = iris.target\n",
    "C = 1.0  # SVM regularization parameter\n",
    "# SVC with linear kernel\n",
    "svc = svm.SVC(kernel='linear', C=C).fit(X, y)\n",
    "# LinearSVC (linear kernel)\n",
    "lin_svc = svm.LinearSVC(C=C).fit(X, y)"
   ]
  },
  {
   "cell_type": "code",
   "execution_count": 9,
   "id": "05832661-60c0-4b0a-b9bd-799edb3334cf",
   "metadata": {},
   "outputs": [],
   "source": [
    "a1 = np.array([5.7,2.8])\n",
    "a2 = a1.reshape(1,-1)\n",
    "a2\n",
    "z=lin_svc.predict(a2)"
   ]
  },
  {
   "cell_type": "code",
   "execution_count": 10,
   "id": "3f817e09-751d-44ab-8d24-a7c76d2a5948",
   "metadata": {},
   "outputs": [
    {
     "data": {
      "text/plain": [
       "array([1])"
      ]
     },
     "execution_count": 10,
     "metadata": {},
     "output_type": "execute_result"
    }
   ],
   "source": [
    "z"
   ]
  },
  {
   "cell_type": "code",
   "execution_count": 11,
   "id": "aab6a0f7-0f35-4d54-a0e8-75101aaac0f1",
   "metadata": {},
   "outputs": [
    {
     "name": "stdout",
     "output_type": "stream",
     "text": [
      "[1]\n"
     ]
    }
   ],
   "source": [
    "print(z)"
   ]
  },
  {
   "cell_type": "code",
   "execution_count": null,
   "id": "899f2849-e77c-4a4b-9ff9-1eb04dd93600",
   "metadata": {},
   "outputs": [],
   "source": []
  }
 ],
 "metadata": {
  "kernelspec": {
   "display_name": "Python 3 (ipykernel)",
   "language": "python",
   "name": "python3"
  },
  "language_info": {
   "codemirror_mode": {
    "name": "ipython",
    "version": 3
   },
   "file_extension": ".py",
   "mimetype": "text/x-python",
   "name": "python",
   "nbconvert_exporter": "python",
   "pygments_lexer": "ipython3",
   "version": "3.9.1"
  }
 },
 "nbformat": 4,
 "nbformat_minor": 5
}
