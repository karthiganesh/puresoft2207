{
 "cells": [
  {
   "cell_type": "code",
   "execution_count": 4,
   "id": "f01cc090-fca5-4104-81e4-3f8f2504286a",
   "metadata": {},
   "outputs": [],
   "source": [
    "import psycopg2\n",
    "import getpass\n",
    "import pandas as pd\n",
    "import numpy as np\n",
    "import sqlalchemy"
   ]
  },
  {
   "cell_type": "code",
   "execution_count": 5,
   "id": "325f2a45-1306-4465-9eef-a4a91d7bfeb1",
   "metadata": {},
   "outputs": [],
   "source": [
    "s_db='sgnxrfie'\n",
    "s_user='sgnxrfie'\n",
    "s_pwd = 'xLS2nfGGP1aSJyBhg94fXqtqOuKM1MET'\n",
    "s_host = 'tiny.db.elephantsql.com'\n",
    "conn = psycopg2.connect(\n",
    "   database=s_db, user=s_user, password=s_pwd, host=s_host\n",
    ")\n",
    "s1=f'postgresql://{s_user}:{s_pwd}@{s_host}/{s_db}'\n",
    "engine = sqlalchemy.create_engine(s1)"
   ]
  },
  {
   "cell_type": "code",
   "execution_count": null,
   "id": "c8ba4468-86a2-4185-bbdd-b3f67db86b2f",
   "metadata": {},
   "outputs": [],
   "source": []
  },
  {
   "cell_type": "code",
   "execution_count": 12,
   "id": "8907e59d-1d1b-4671-b044-a46a04ffc5b7",
   "metadata": {},
   "outputs": [],
   "source": [
    "def get_cc_info(pn_appl_no):\n",
    "    df_sel_appl = pd.read_sql(f'select * from \"public\".\"creditcardappl\" where \"ID\"={pn_appl_no}', con=conn)\n",
    "    return df_sel_appl"
   ]
  },
  {
   "cell_type": "code",
   "execution_count": 26,
   "id": "7463ee38-fe10-4cf3-8937-de0d15c20d2c",
   "metadata": {},
   "outputs": [],
   "source": [
    "def get_total_income(ps_inc_type):\n",
    "    df_sel_appl = pd.read_sql(f'select sum(\"AMT_INCOME_TOTAL\") from creditcardappl where \"NAME_INCOME_TYPE\"=\\'{ps_inc_type}\\'', con=conn)\n",
    "    return df_sel_appl['sum']"
   ]
  },
  {
   "cell_type": "code",
   "execution_count": 23,
   "id": "aa089e1a-eb47-411b-8fe9-c81bb37ba264",
   "metadata": {},
   "outputs": [
    {
     "data": {
      "text/plain": [
       "0    98349750.0\n",
       "Name: sum, dtype: float64"
      ]
     },
     "execution_count": 23,
     "metadata": {},
     "output_type": "execute_result"
    }
   ],
   "source": [
    "a=find_total_income('Working')\n",
    "a"
   ]
  },
  {
   "cell_type": "code",
   "execution_count": null,
   "id": "15616395-0683-4d81-a6cb-5fb2c4c5a4e4",
   "metadata": {},
   "outputs": [
    {
     "name": "stdin",
     "output_type": "stream",
     "text": [
      "CC Appl No 55008808\n",
      "Income Type Pensioner\n"
     ]
    },
    {
     "name": "stdout",
     "output_type": "stream",
     "text": [
      "Your result= Empty DataFrame\n",
      "Columns: [ID, CODE_GENDER, FLAG_OWN_CAR, FLAG_OWN_REALTY, CNT_CHILDREN, AMT_INCOME_TOTAL, NAME_INCOME_TYPE, NAME_EDUCATION_TYPE, NAME_FAMILY_STATUS, NAME_HOUSING_TYPE, DAYS_BIRTH, DAYS_EMPLOYED, FLAG_MOBIL, FLAG_WORK_PHONE, FLAG_PHONE, FLAG_EMAIL, OCCUPATION_TYPE, CNT_FAM_MEMBERS]\n",
      "Index: [] 0    21605220.0\n",
      "Name: sum, dtype: float64\n"
     ]
    },
    {
     "name": "stdin",
     "output_type": "stream",
     "text": [
      "Repeat <Y/N> ? Y\n",
      "CC Appl No 55008810\n",
      "Income Type Working\n"
     ]
    },
    {
     "name": "stdout",
     "output_type": "stream",
     "text": [
      "Your result= Empty DataFrame\n",
      "Columns: [ID, CODE_GENDER, FLAG_OWN_CAR, FLAG_OWN_REALTY, CNT_CHILDREN, AMT_INCOME_TOTAL, NAME_INCOME_TYPE, NAME_EDUCATION_TYPE, NAME_FAMILY_STATUS, NAME_HOUSING_TYPE, DAYS_BIRTH, DAYS_EMPLOYED, FLAG_MOBIL, FLAG_WORK_PHONE, FLAG_PHONE, FLAG_EMAIL, OCCUPATION_TYPE, CNT_FAM_MEMBERS]\n",
      "Index: [] 0    98349750.0\n",
      "Name: sum, dtype: float64\n"
     ]
    }
   ],
   "source": [
    "c_repeat='Y'\n",
    "while c_repeat=='Y':\n",
    "    n_appl = int(input(\"CC Appl No\"))\n",
    "    s_inc = input(\"Income Type\")\n",
    "    df_cc = get_cc_info(n_appl)\n",
    "    n_inc = get_total_income(s_inc)\n",
    "    print(\"Your result=\",df_cc,n_inc)\n",
    "    c_repeat = input(\"Repeat <Y/N> ?\")"
   ]
  },
  {
   "cell_type": "code",
   "execution_count": null,
   "id": "c260bb5c-ee49-4e33-ad38-d553d2e11c09",
   "metadata": {},
   "outputs": [],
   "source": []
  }
 ],
 "metadata": {
  "kernelspec": {
   "display_name": "Python 3 (ipykernel)",
   "language": "python",
   "name": "python3"
  },
  "language_info": {
   "codemirror_mode": {
    "name": "ipython",
    "version": 3
   },
   "file_extension": ".py",
   "mimetype": "text/x-python",
   "name": "python",
   "nbconvert_exporter": "python",
   "pygments_lexer": "ipython3",
   "version": "3.9.1"
  }
 },
 "nbformat": 4,
 "nbformat_minor": 5
}
